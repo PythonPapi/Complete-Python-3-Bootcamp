{
 "cells": [
  {
   "cell_type": "markdown",
   "metadata": {},
   "source": [
    "# Guessing Game Challenge\n",
    "\n",
    "Let's use `while` loops to create a guessing game.\n",
    "\n",
    "The Challenge:\n",
    "\n",
    "Write a program that picks a random integer from 1 to 100, and has players guess the number. The rules are:\n",
    "\n",
    "1. If a player's guess is less than 1 or greater than 100, say \"OUT OF BOUNDS\"\n",
    "2. On a player's first turn, if their guess is\n",
    " * within 10 of the number, return \"WARM!\"\n",
    " * further than 10 away from the number, return \"COLD!\"\n",
    "3. On all subsequent turns, if a guess is \n",
    " * closer to the number than the previous guess return \"WARMER!\"\n",
    " * farther from the number than the previous guess, return \"COLDER!\"\n",
    "4. When the player's guess equals the number, tell them they've guessed correctly *and* how many guesses it took!\n",
    "\n",
    "You can try this from scratch, or follow the steps outlined below. A separate Solution notebook has been provided. Good luck!\n"
   ]
  },
  {
   "cell_type": "code",
   "execution_count": 58,
   "metadata": {},
   "outputs": [],
   "source": [
    "import random \n",
    "answer = random.randint(0,101)"
   ]
  },
  {
   "cell_type": "code",
   "execution_count": 59,
   "metadata": {},
   "outputs": [
    {
     "name": "stdout",
     "output_type": "stream",
     "text": [
      "I'm thinking of a number from 0 to 100 . . . \n",
      "guess and I'll tell you if you get it right! \n",
      "\n",
      "Ready? Let's go!\n"
     ]
    }
   ],
   "source": [
    "print(\"I'm thinking of a number from 0 to 100 . . . \\nguess and I'll tell you if you get it right! \\n\\nReady? Let's go!\")"
   ]
  },
  {
   "cell_type": "code",
   "execution_count": 60,
   "metadata": {},
   "outputs": [
    {
     "name": "stdout",
     "output_type": "stream",
     "text": [
      "Thought of a number yet? \n",
      "Great! What is it? 80\n",
      "COLD\n",
      "Thought of a number yet? \n",
      "Great! What is it? 20\n",
      "WARMER!\n",
      "Thought of a number yet? \n",
      "Great! What is it? 50\n",
      "COLDER!\n",
      "Thought of a number yet? \n",
      "Great! What is it? 30\n",
      "WARMER!\n",
      "Thought of a number yet? \n",
      "Great! What is it? 25\n",
      "WARMER!\n",
      "Thought of a number yet? \n",
      "Great! What is it? 18\n",
      "WARMER!\n",
      "Thought of a number yet? \n",
      "Great! What is it? 12\n",
      "WARMER!\n",
      "Thought of a number yet? \n",
      "Great! What is it? 9\n",
      "WARMER!\n",
      "Thought of a number yet? \n",
      "Great! What is it? 1\n",
      "WARMER!\n",
      "Thought of a number yet? \n",
      "Great! What is it? 5\n",
      "WARMER!\n",
      "Thought of a number yet? \n",
      "Great! What is it? 8\n",
      "COLDER!\n",
      "Thought of a number yet? \n",
      "Great! What is it? 4\n",
      "Congratulations! You guessed it in 12 tries!\n"
     ]
    }
   ],
   "source": [
    "\n",
    "guesses = [0]\n",
    "\n",
    "while True:\n",
    "    \n",
    "    guess = int(input(\"Thought of a number yet? \\nGreat! What is it? \"))\n",
    "       \n",
    "    if guess < 1 or guess > 100 :    #stipulation 1, check if guess is in bounds...\n",
    "        print(\"That's out of bounds! Try again!: \") \n",
    "        continue \n",
    "        \n",
    "    if guess == answer :\n",
    "        print(f'Congratulations! You guessed it in {len(guesses)} tries!')\n",
    "        break\n",
    "   \n",
    "    guesses.append(guess)\n",
    "          \n",
    "    if guesses[-2] :   # stipulation 3 \n",
    "        if abs(answer - guess) < abs(answer - guesses[-2]) :\n",
    "            print(\"WARMER!\")\n",
    "        else:\n",
    "            print(\"COLDER!\")\n",
    "                   \n",
    "    else:      #stipulation 2 \n",
    "        if abs(answer - guess) <= 10 :\n",
    "            print(\"WARM\")\n",
    "        else :\n",
    "            print(\"COLD\") \n",
    "        \n",
    "    \n",
    "              "
   ]
  },
  {
   "cell_type": "code",
   "execution_count": null,
   "metadata": {},
   "outputs": [],
   "source": []
  }
 ],
 "metadata": {
  "kernelspec": {
   "display_name": "Python 3",
   "language": "python",
   "name": "python3"
  },
  "language_info": {
   "codemirror_mode": {
    "name": "ipython",
    "version": 3
   },
   "file_extension": ".py",
   "mimetype": "text/x-python",
   "name": "python",
   "nbconvert_exporter": "python",
   "pygments_lexer": "ipython3",
   "version": "3.8.3"
  }
 },
 "nbformat": 4,
 "nbformat_minor": 4
}
